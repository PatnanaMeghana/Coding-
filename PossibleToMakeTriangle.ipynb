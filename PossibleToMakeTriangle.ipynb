{
 "cells": [
  {
   "cell_type": "code",
   "execution_count": null,
   "id": "a2565aaf",
   "metadata": {},
   "outputs": [],
   "source": [
    "#Problem Satatement:\n",
    "'''Problem Statement\n",
    "\n",
    "You are given an integer of array/list 'ARR' of length 'N. You are supposed to return true if it is possible to construct at least one non-degenerate triangle using values of arrayist as sides of the triangle, otherwise, return false.\n",
    "Sample input:\n",
    " 2\n",
    " 5\n",
    " 4 2 1 3 2\n",
    " 5\n",
    " 12 3 7 4 28\n",
    " Sample Output:\n",
    " YES\n",
    " NO'''\n",
    "from os import *\n",
    "from sys import *\n",
    "from collections import *\n",
    "from math import *\n",
    "\n",
    "from sys import stdin\n",
    "\n",
    "def possibleToMakeTriangle(arr):\n",
    "\n",
    "    if len(arr)<3:\n",
    "        return False\n",
    "    arr.sort() \n",
    "    for i in range(len(arr)-2):\n",
    "        if arr[i]+arr[i+1]>arr[i+2]:\n",
    "            return True\n",
    "    return False\n",
    "\n",
    "# Main code.\n",
    "t = int(input().strip())\n",
    "\n",
    "for i in range(t):\n",
    "    n = list(map(int, stdin.readline().strip().split(\" \")))\n",
    "\n",
    "    if len(n) > 1:\n",
    "        arr = n\n",
    "    else:\n",
    "        arr = list(map(int, stdin.readline().strip().split(\" \")))\n",
    "\n",
    "    if (possibleToMakeTriangle(arr)):\n",
    "        print(\"YES\")\n",
    "    else:\n",
    "        print(\"NO\")\n"
   ]
  }
 ],
 "metadata": {
  "kernelspec": {
   "display_name": "Python 3 (ipykernel)",
   "language": "python",
   "name": "python3"
  },
  "language_info": {
   "codemirror_mode": {
    "name": "ipython",
    "version": 3
   },
   "file_extension": ".py",
   "mimetype": "text/x-python",
   "name": "python",
   "nbconvert_exporter": "python",
   "pygments_lexer": "ipython3",
   "version": "3.9.7"
  }
 },
 "nbformat": 4,
 "nbformat_minor": 5
}
